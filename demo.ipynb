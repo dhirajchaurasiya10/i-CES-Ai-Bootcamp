{
 "cells": [
  {
   "cell_type": "code",
   "execution_count": 6,
   "metadata": {},
   "outputs": [
    {
     "name": "stdout",
     "output_type": "stream",
     "text": [
      "Mars\n",
      "Earth\n"
     ]
    }
   ],
   "source": [
    "# swap two variables\n",
    "\n",
    "planet1 = 'Earth'\n",
    "planet2 = 'Mars'\n",
    "\n",
    "planet2,planet1 = planet1,planet2\n",
    "print(planet1)\n",
    "print(planet2)"
   ]
  },
  {
   "cell_type": "code",
   "execution_count": 7,
   "metadata": {},
   "outputs": [
    {
     "name": "stdout",
     "output_type": "stream",
     "text": [
      "1\n",
      "1\n",
      "2\n",
      "3\n",
      "5\n",
      "8\n",
      "13\n",
      "21\n",
      "34\n",
      "55\n",
      "89\n",
      "144\n"
     ]
    }
   ],
   "source": [
    "# fibonacci sequence\n",
    "\n",
    "x=1\n",
    "y=1\n",
    "print(x)\n",
    "print(y)\n",
    "for i in range(0,10):\n",
    "    z = x + y\n",
    "    x = y\n",
    "    y = z\n",
    "    print(z)"
   ]
  },
  {
   "cell_type": "markdown",
   "metadata": {},
   "source": [
    "# Functions"
   ]
  },
  {
   "cell_type": "code",
   "execution_count": 5,
   "metadata": {},
   "outputs": [
    {
     "name": "stdout",
     "output_type": "stream",
     "text": [
      "Hello Dhiraj\n"
     ]
    }
   ],
   "source": [
    "def greet(name):\n",
    "    return f\"Hello {name}\"\n",
    "\n",
    "\n",
    "print(greet(\"Dhiraj\"))"
   ]
  },
  {
   "cell_type": "markdown",
   "metadata": {},
   "source": [
    "# Input and Output"
   ]
  },
  {
   "cell_type": "code",
   "execution_count": 13,
   "metadata": {},
   "outputs": [
    {
     "name": "stdout",
     "output_type": "stream",
     "text": [
      "Dkc\n"
     ]
    }
   ],
   "source": [
    "# Reading input from user\n",
    "# name = input(\"Enter your name: \")\n",
    "# print(name)\n",
    "\n",
    "\n",
    "#writing to a file\n",
    "# with open('demo.txt', 'w') as f:\n",
    "#     f.write(name)\n",
    "#     f.close()\n",
    "\n",
    "#reading from a file\n",
    "with open('demo.txt', 'r') as f:\n",
    "    print(f.read())"
   ]
  },
  {
   "cell_type": "markdown",
   "metadata": {},
   "source": [
    "# Importing modules"
   ]
  },
  {
   "cell_type": "code",
   "execution_count": 17,
   "metadata": {},
   "outputs": [
    {
     "name": "stdout",
     "output_type": "stream",
     "text": [
      "6.0\n",
      "f:\\Ai bootcamp\n"
     ]
    }
   ],
   "source": [
    "import math\n",
    "print(math.sqrt(36))\n",
    "\n",
    "import os\n",
    "print(os.getcwd())"
   ]
  },
  {
   "cell_type": "markdown",
   "metadata": {},
   "source": [
    "# Loop"
   ]
  },
  {
   "cell_type": "code",
   "execution_count": 5,
   "metadata": {},
   "outputs": [
    {
     "name": "stdout",
     "output_type": "stream",
     "text": [
      "0. Hello World\n",
      "1. Hello World\n",
      "2. Hello World\n",
      "3. Hello World\n",
      "4. Hello World\n"
     ]
    }
   ],
   "source": [
    "# for loop \n",
    "# for i in range(11):\n",
    "#     print(f\"{i}. Hello World\")\n",
    "\n",
    "\n",
    "# while loop\n",
    "i=0\n",
    "while i<5:\n",
    "        print(f\"{i}. Hello World\")\n",
    "        i+=1"
   ]
  },
  {
   "cell_type": "markdown",
   "metadata": {},
   "source": [
    "# Error Handling"
   ]
  },
  {
   "cell_type": "code",
   "execution_count": 7,
   "metadata": {},
   "outputs": [
    {
     "name": "stdout",
     "output_type": "stream",
     "text": [
      "Cannot divide by zero\n"
     ]
    }
   ],
   "source": [
    "def divide(a,b):\n",
    "    if b==0:\n",
    "        raise ValueError(\"Cannot divide by zero\")\n",
    "    return a/b\n",
    "\n",
    "try:\n",
    "    divide(5,0)\n",
    "except ValueError as e:\n",
    "     print(e)"
   ]
  },
  {
   "cell_type": "code",
   "execution_count": 1,
   "metadata": {},
   "outputs": [
    {
     "name": "stdout",
     "output_type": "stream",
     "text": [
      "11\n",
      "12.1\n",
      "11.6\n"
     ]
    }
   ],
   "source": [
    "# add 2 numbers\n",
    "def add(a,b):\n",
    "    return a+b\n",
    "\n",
    "print(add(5,6))\n",
    "print(add(5.5,6.6))\n",
    "print(add(5,6.6))"
   ]
  }
 ],
 "metadata": {
  "kernelspec": {
   "display_name": "Python 3",
   "language": "python",
   "name": "python3"
  },
  "language_info": {
   "codemirror_mode": {
    "name": "ipython",
    "version": 3
   },
   "file_extension": ".py",
   "mimetype": "text/x-python",
   "name": "python",
   "nbconvert_exporter": "python",
   "pygments_lexer": "ipython3",
   "version": "3.12.2"
  }
 },
 "nbformat": 4,
 "nbformat_minor": 2
}
