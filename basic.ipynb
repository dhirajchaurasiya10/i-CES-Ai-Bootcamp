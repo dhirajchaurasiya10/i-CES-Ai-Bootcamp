{
 "cells": [
  {
   "cell_type": "markdown",
   "metadata": {},
   "source": [
    "# Generator"
   ]
  },
  {
   "cell_type": "code",
   "execution_count": 1,
   "metadata": {},
   "outputs": [
    {
     "name": "stdout",
     "output_type": "stream",
     "text": [
      "5\n",
      "4\n",
      "3\n",
      "2\n",
      "1\n"
     ]
    }
   ],
   "source": [
    "def countdown(n):\n",
    "    while n > 0:\n",
    "        yield n\n",
    "        n -= 1\n",
    "# a = 0\n",
    "for i in countdown(5):\n",
    "    # a+= 1\n",
    "    print(i)\n",
    "    # print(a)"
   ]
  },
  {
   "cell_type": "markdown",
   "metadata": {},
   "source": [
    "Difference between Generator and List"
   ]
  },
  {
   "cell_type": "code",
   "execution_count": 3,
   "metadata": {},
   "outputs": [
    {
     "name": "stdout",
     "output_type": "stream",
     "text": [
      "[0, 1, 4, 9, 16]\n",
      "0\n",
      "1\n",
      "4\n",
      "9\n",
      "16\n"
     ]
    }
   ],
   "source": [
    "def squares(n):\n",
    "    while n>0:\n",
    "        return [i**2 for i in range(n)]\n",
    "    \n",
    "\n",
    "ans = squares(5)\n",
    "print(ans)\n",
    "for i in ans:\n",
    "    print(i)"
   ]
  },
  {
   "cell_type": "markdown",
   "metadata": {},
   "source": [
    "# Memory Usage Comparison"
   ]
  },
  {
   "cell_type": "code",
   "execution_count": 5,
   "metadata": {},
   "outputs": [
    {
     "name": "stdout",
     "output_type": "stream",
     "text": [
      "List memory usage: 248 bytes\n",
      "Generator memory usage: 200 bytes\n"
     ]
    }
   ],
   "source": [
    "import sys\n",
    "#List\n",
    "squares = [i**2 for i in range(19)]\n",
    "print(f\"List memory usage: {sys.getsizeof(squares)} bytes\")\n",
    "\n",
    "#Generator\n",
    "squares_generator = (i ** 2 for i in range(1000))\n",
    "print(f\"Generator memory usage: {sys.getsizeof(squares_generator)} bytes\")"
   ]
  },
  {
   "cell_type": "markdown",
   "metadata": {},
   "source": [
    "# Map function "
   ]
  },
  {
   "cell_type": "markdown",
   "metadata": {},
   "source": [
    "Syntax: `map(function, iterable)`\n",
    "\n",
    "The `map` function applies a given function to all items in an input list (or any iterable) and returns a map object (an iterator).\n"
   ]
  },
  {
   "cell_type": "code",
   "execution_count": 4,
   "metadata": {},
   "outputs": [
    {
     "name": "stdout",
     "output_type": "stream",
     "text": [
      "<map object at 0x000002288A3D2620>\n",
      "[77, 97, 64, 85, 55]\n"
     ]
    }
   ],
   "source": [
    "marks = [77,97,64,85,55]\n",
    "\n",
    "def grade(marks):\n",
    "    if marks>=90:\n",
    "        return \"A\"\n",
    "    elif marks>=80 and marks<90:\n",
    "        return \"B\"\n",
    "    elif marks>=70 and marks<80:\n",
    "        return \"C\"\n",
    "    elif marks>=60 and marks<70:\n",
    "        return \"D\"\n",
    "    else:\n",
    "        return \"F\"\n",
    "    \n",
    "grades = map(grade,marks)\n",
    "print(grades)\n",
    "print(marks)"
   ]
  },
  {
   "cell_type": "markdown",
   "metadata": {},
   "source": [
    "# Filter"
   ]
  },
  {
   "cell_type": "markdown",
   "metadata": {},
   "source": [
    "Syntax: `filter(function, iterable)`\n",
    "\n",
    "The filter function constructs an iterator from elements of an iterable for which a function returns true."
   ]
  },
  {
   "cell_type": "code",
   "execution_count": 5,
   "metadata": {},
   "outputs": [
    {
     "name": "stdout",
     "output_type": "stream",
     "text": [
      "[2, 4, 6]\n",
      "[2, 4, 6]\n"
     ]
    }
   ],
   "source": [
    "# Using filter with a lambda function\n",
    "numbers = [1, 2, 3, 4, 5, 6]\n",
    "evens = filter(lambda x: x % 2 == 0, numbers)\n",
    "print(list(evens))  # Output: [2, 4, 6]\n",
    "\n",
    "# Using filter with a regular function\n",
    "def is_even(x):\n",
    "    return x % 2 == 0\n",
    "\n",
    "evens = filter(is_even, numbers)\n",
    "print(list(evens))  # Output: [2, 4, 6]"
   ]
  }
 ],
 "metadata": {
  "kernelspec": {
   "display_name": "Python 3",
   "language": "python",
   "name": "python3"
  },
  "language_info": {
   "codemirror_mode": {
    "name": "ipython",
    "version": 3
   },
   "file_extension": ".py",
   "mimetype": "text/x-python",
   "name": "python",
   "nbconvert_exporter": "python",
   "pygments_lexer": "ipython3",
   "version": "3.12.2"
  }
 },
 "nbformat": 4,
 "nbformat_minor": 2
}
